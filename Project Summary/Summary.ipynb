{
 "cells": [
  {
   "cell_type": "markdown",
   "metadata": {},
   "source": [
    "# Project \n",
    "    Code: 10281"
   ]
  },
  {
   "cell_type": "markdown",
   "metadata": {},
   "source": [
    "## Employee Performance Analysis\n",
    "### INX Future Inc.\n",
    "### Project Summary\n",
    "   INX Future Inc, is one of the leading data analytics and automation solutions provider with over 15 years of global business presence. INX is consistently rated as top 20 best employers past 5 years. In recent years, the employee performance indexes are not healthy and this has become a growing concern among the top management. CEO, Mr. Brain, knows the issues but concerned to take any actions in penalizing non-performing employees as this would affect the employee morale of all the employees in general and may further reduce the performance. The CEO Mr. Brain, decided to initiate a data science project, which analyzes the current employee data and find the core underlying causes of the performance issues. He also expects a clear indicators of non-performing employees, so that any penalization of non-performing employee, if required, may not significantly affect other employee morals.\n",
    "\n",
    "The following requirements that are expected from this project:\n",
    "\n",
    "1. Department wise performances.\n",
    "2. Top 3 Important Factors effecting employee performance.\n",
    "3. A trained model which can predict the employee performance based on factors as inputs.\n",
    "4. Recommendations to improve the employee performance based on insights from analysis.\n",
    "\n",
    "### 1. Requirement\n",
    "   The data obtained from the IABAC for this project where the collected source is IABAC. The data is based on INX Future Inc, (referred as INX ). The data is not from the real organization. The whole project was done in Jupiter notebook platform using python.\n",
    "\n",
    "### 2. Analysis\n",
    "   The data obatained is 1200 X 28 shape which contains both numerical and categorical columns. The predictors are both ordinal and nominal. Target is a ordinal catergorical feature.\n",
    "#### (i) Analysis by the distribution of the data\n",
    "Minimum age of employee is 18 and maximum is 60, 50% of the employee are between 30 - 43, max people are of age 34. Distance from home is measured in units ranging from 1 - 30, 50% of people distance between 1 - 7 units. Around 50% of people have worked for atleast two companies. Most of the employee hourly rate is between 48 - 85. Features like EmpEnvironmentSatisfaction, EmpLastSalaryHikePercent, EmpWorkLifeBalance has high positive correlation wih the target.\n",
    "EmpEducationLevel, NumCompaniesWorked has moderate positive correlation with the target. \n",
    "#### (ii ) Analysis by the visualization\n",
    "    \n",
    "   #### Department wise performances :\n",
    "   \n",
    "   1. More number of employees in sales department are having poor performances comparatively, sales has the quite good number of average performers too.\n",
    "   2. Human Resources have more number of rating 2 than the number of 4 ratings but the moderate performers (rating 3) is quite high.\n",
    "   3. Highest average performance(rating 3) is in development team with quite high number of good performances(rating 4) and very few low poor performances.\n",
    "   4. There are average performers and few best performers in data science with negligible worst performances.\n",
    "   5. Research and development has the second most worst performances with quite few best performances and huge moderate performances (rating 3).\n",
    "   6. Finance has very few best (rating 4), more number of moderate performances, and noctiable amount of low performances.\n",
    "   \n",
    "#### Top three factors affecting the performance :\n",
    "   Feature importance using gradient boosting classifier to obtain the level of features at which they are affecting the target.\n",
    "   1. Employment Environment Satisfaction\n",
    "   2. Employee Salary Hike Percentage\n",
    "   3. Years Since the last Promotion\n",
    "\n",
    "   These features also showed good correlation with the target too. \n",
    "\n",
    "   More number of employee environmnet satisfaction is found in all the departments except sales. 0-2 yrs since the promotion shows good performances, later the performances gradually decreases and this is common in all the departments. Hike percentage below 20% are mostly average (rating 3) or less, where as above 20% the performances are good with more number of rating 3 and 4. 1-2 times training a year shows good performnaces in all the department.\n",
    "\n",
    "Detailed analysis on how these features are influencing the performances in each derparment are explained in  'visualize.ipynb' .\n",
    "\n",
    "### 3. Summary\n",
    "   In order to train the model and predict the performances few transformations of the data is needed to be done to make the machine learning algorithm (model) learn the data well. The preprocessing techniques like label encoding was done to convert the non-numeric categorical data into numeric ones. Feature importance was done in the visualization using gradient boosting classifier to obtain the top 16 important features to the make the model predict well(with all the features the performance was low).The data was split into train and test data before further processing the data to avoid data leakage. The data contained three classes in the target feature to classify but the number of data in each classes were inequal. This could create bias in the model. In order to decrease the bias to some extend and develop a more generalized model, synthetic data was created using smoting technique. Traditional models like logistic regression, random forest an ensemble techniques which uses a collection of decision tree to find the better predictions, were used using sklearn library. Then advanced algorithms like XG boost which is an optimized distributed gradient boosting library designed to be highly efficient, flexible and portable. It implements machine learning algorithms under the Gradient Boosting framework  and cat boost which is again a gradient boosting on decision trees were also used to see the predictions.\n",
    "    Apparently random forest won the race.\n",
    "    \n",
    "\n",
    "   ### Model with the results(accuracy)\n",
    "\n",
    "1. Logistic Regression  -  73.33 %\n",
    "2. Random forest classifier - 93 %\n",
    "3. XG Boost  - 90.66 %\n",
    "4. Cat Boost - 92.33 %\n",
    "\n",
    "The result were mainly focused predicting the class 2 and 3 precisely (to penalize or take further actions) and to avoid misclassifiaction of class 4 performers to be wrongly classified as 2 or 3 (especially 2) to avoid loosing best performing employees from the company.\n",
    "\n",
    "\n",
    "### Recommendations \n",
    "   The factors that are mostly affecting the perfromance are Employee satisfactions, Hikes, Promotions, Training times, distance from the office to home.\n",
    "      \n",
    "   So a timely hikes in salary (20% hikes performance are good) and promotions can be done because these are accounted as the appreciation for their works. Training times atleast 2 times would lead in good perfomance also transport facilities play some part in the employees performance. With these factors collectively increases the top most important factor Employee environment satisfaction (employee satisfaction) and would get the company back into top 20 rating as it was 5 yrs ago."
   ]
  },
  {
   "cell_type": "code",
   "execution_count": null,
   "metadata": {},
   "outputs": [],
   "source": []
  }
 ],
 "metadata": {
  "kernelspec": {
   "display_name": "Python 3",
   "language": "python",
   "name": "python3"
  },
  "language_info": {
   "codemirror_mode": {
    "name": "ipython",
    "version": 3
   },
   "file_extension": ".py",
   "mimetype": "text/x-python",
   "name": "python",
   "nbconvert_exporter": "python",
   "pygments_lexer": "ipython3",
   "version": "3.8.3"
  },
  "toc": {
   "base_numbering": 1,
   "nav_menu": {},
   "number_sections": false,
   "sideBar": true,
   "skip_h1_title": false,
   "title_cell": "Table of Contents",
   "title_sidebar": "Contents",
   "toc_cell": false,
   "toc_position": {},
   "toc_section_display": true,
   "toc_window_display": true
  },
  "widgets": {
   "application/vnd.jupyter.widget-state+json": {
    "state": {},
    "version_major": 2,
    "version_minor": 0
   }
  }
 },
 "nbformat": 4,
 "nbformat_minor": 4
}
