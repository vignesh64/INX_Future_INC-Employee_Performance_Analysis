{
 "cells": [
  {
   "cell_type": "markdown",
   "metadata": {},
   "source": [
    "## Model Predictions "
   ]
  },
  {
   "cell_type": "markdown",
   "metadata": {},
   "source": [
    "### Import the trained model "
   ]
  },
  {
   "cell_type": "code",
   "execution_count": 3,
   "metadata": {
    "scrolled": true
   },
   "outputs": [],
   "source": [
    "#importing the model for some predictions\n",
    "import import_ipynb\n",
    "import joblib\n",
    "from train_model import *\n"
   ]
  },
  {
   "cell_type": "markdown",
   "metadata": {},
   "source": [
    "## Predictions"
   ]
  },
  {
   "cell_type": "markdown",
   "metadata": {},
   "source": [
    "### Logistic regression "
   ]
  },
  {
   "cell_type": "code",
   "execution_count": 4,
   "metadata": {},
   "outputs": [
    {
     "name": "stdout",
     "output_type": "stream",
     "text": [
      "0.7333333333333333\n",
      "[[ 33  12   4]\n",
      " [ 30 164  24]\n",
      " [  1   9  23]]\n",
      "              precision    recall  f1-score   support\n",
      "\n",
      "           2       0.52      0.67      0.58        49\n",
      "           3       0.89      0.75      0.81       218\n",
      "           4       0.45      0.70      0.55        33\n",
      "\n",
      "    accuracy                           0.73       300\n",
      "   macro avg       0.62      0.71      0.65       300\n",
      "weighted avg       0.78      0.73      0.75       300\n",
      "\n"
     ]
    }
   ],
   "source": [
    "log_predict = log_model.predict(sc_x_test)\n",
    "print(accuracy_score(y_test, log_predict))\n",
    "print(confusion_matrix(y_test, log_predict))\n",
    "print(classification_report(y_test, log_predict))"
   ]
  },
  {
   "cell_type": "markdown",
   "metadata": {},
   "source": [
    "### Random forest classifier"
   ]
  },
  {
   "cell_type": "code",
   "execution_count": 5,
   "metadata": {},
   "outputs": [
    {
     "name": "stdout",
     "output_type": "stream",
     "text": [
      "0.93\n",
      "[[ 45   3   1]\n",
      " [  3 210   5]\n",
      " [  0   9  24]]\n",
      "              precision    recall  f1-score   support\n",
      "\n",
      "           2       0.94      0.92      0.93        49\n",
      "           3       0.95      0.96      0.95       218\n",
      "           4       0.80      0.73      0.76        33\n",
      "\n",
      "    accuracy                           0.93       300\n",
      "   macro avg       0.89      0.87      0.88       300\n",
      "weighted avg       0.93      0.93      0.93       300\n",
      "\n"
     ]
    }
   ],
   "source": [
    "rf_predict = rf_model.predict(x_test)\n",
    "print(accuracy_score(y_test, rf_predict))\n",
    "print(confusion_matrix(y_test, rf_predict))\n",
    "print(classification_report(y_test, rf_predict))"
   ]
  },
  {
   "cell_type": "markdown",
   "metadata": {},
   "source": [
    "### XG Boost classifier"
   ]
  },
  {
   "cell_type": "code",
   "execution_count": 6,
   "metadata": {},
   "outputs": [
    {
     "name": "stdout",
     "output_type": "stream",
     "text": [
      "0.9066666666666666\n",
      "[[ 40   7   2]\n",
      " [  5 208   5]\n",
      " [  0   9  24]]\n",
      "              precision    recall  f1-score   support\n",
      "\n",
      "           2       0.89      0.82      0.85        49\n",
      "           3       0.93      0.95      0.94       218\n",
      "           4       0.77      0.73      0.75        33\n",
      "\n",
      "    accuracy                           0.91       300\n",
      "   macro avg       0.86      0.83      0.85       300\n",
      "weighted avg       0.91      0.91      0.91       300\n",
      "\n"
     ]
    }
   ],
   "source": [
    "xg_predict =xg_model.predict(x_test)\n",
    "print(accuracy_score(y_test, xg_predict))\n",
    "print(confusion_matrix(y_test, xg_predict))\n",
    "print(classification_report(y_test, xg_predict))"
   ]
  },
  {
   "cell_type": "markdown",
   "metadata": {},
   "source": [
    "### Cat boost Classifier "
   ]
  },
  {
   "cell_type": "code",
   "execution_count": 7,
   "metadata": {},
   "outputs": [
    {
     "name": "stdout",
     "output_type": "stream",
     "text": [
      "0.9233333333333333\n",
      "[[ 44   5   0]\n",
      " [  5 209   4]\n",
      " [  0   9  24]]\n",
      "              precision    recall  f1-score   support\n",
      "\n",
      "           2       0.90      0.90      0.90        49\n",
      "           3       0.94      0.96      0.95       218\n",
      "           4       0.86      0.73      0.79        33\n",
      "\n",
      "    accuracy                           0.92       300\n",
      "   macro avg       0.90      0.86      0.88       300\n",
      "weighted avg       0.92      0.92      0.92       300\n",
      "\n"
     ]
    }
   ],
   "source": [
    "cb_predict = cb_model.predict(x_test)\n",
    "print(accuracy_score(y_test, cb_predict))\n",
    "print(confusion_matrix(y_test, cb_predict))\n",
    "print(classification_report(y_test, cb_predict))\n"
   ]
  },
  {
   "cell_type": "markdown",
   "metadata": {},
   "source": [
    "Here random forest classifier performed well by classifying the rating 2 and 3 quite precisely. More importantly The employee whose rating is 4(best) weren't wrongly clssified as 2 (poor). "
   ]
  },
  {
   "cell_type": "code",
   "execution_count": 4,
   "metadata": {},
   "outputs": [
    {
     "data": {
      "text/plain": [
       "['INX_Future_Inc.ml']"
      ]
     },
     "execution_count": 4,
     "metadata": {},
     "output_type": "execute_result"
    }
   ],
   "source": [
    "# Exporting the selected trained model\n",
    "joblib.dump(rf_model,'INX_Future_Inc.ml')"
   ]
  },
  {
   "cell_type": "code",
   "execution_count": null,
   "metadata": {},
   "outputs": [],
   "source": []
  }
 ],
 "metadata": {
  "kernelspec": {
   "display_name": "Python 3",
   "language": "python",
   "name": "python3"
  },
  "language_info": {
   "codemirror_mode": {
    "name": "ipython",
    "version": 3
   },
   "file_extension": ".py",
   "mimetype": "text/x-python",
   "name": "python",
   "nbconvert_exporter": "python",
   "pygments_lexer": "ipython3",
   "version": "3.8.3"
  },
  "toc": {
   "base_numbering": 1,
   "nav_menu": {},
   "number_sections": false,
   "sideBar": true,
   "skip_h1_title": false,
   "title_cell": "Table of Contents",
   "title_sidebar": "Contents",
   "toc_cell": false,
   "toc_position": {},
   "toc_section_display": true,
   "toc_window_display": false
  }
 },
 "nbformat": 4,
 "nbformat_minor": 4
}
